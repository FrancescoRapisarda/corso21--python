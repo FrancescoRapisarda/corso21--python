{
 "cells": [
  {
   "cell_type": "code",
   "execution_count": null,
   "id": "a6e7f314",
   "metadata": {},
   "outputs": [],
   "source": [
    "#i CAVALLI DI BATTAGLIA\n",
    "#liste\n",
    "#set\n",
    "#dizionari"
   ]
  },
  {
   "cell_type": "code",
   "execution_count": 1,
   "id": "23422778",
   "metadata": {},
   "outputs": [
    {
     "name": "stdout",
     "output_type": "stream",
     "text": [
      "[1, 'mamma', True, 3.14]\n"
     ]
    }
   ],
   "source": [
    "B=list((1,\"mamma\",True,3.14))\n",
    "print(B)"
   ]
  },
  {
   "cell_type": "code",
   "execution_count": 2,
   "id": "1303af56",
   "metadata": {},
   "outputs": [
    {
     "ename": "NameError",
     "evalue": "name 'A' is not defined",
     "output_type": "error",
     "traceback": [
      "\u001b[1;31m---------------------------------------------------------------------------\u001b[0m",
      "\u001b[1;31mNameError\u001b[0m                                 Traceback (most recent call last)",
      "Cell \u001b[1;32mIn[2], line 1\u001b[0m\n\u001b[1;32m----> 1\u001b[0m \u001b[43mA\u001b[49m\u001b[38;5;241m.\u001b[39mappend(\u001b[38;5;241m50\u001b[39m)\n\u001b[0;32m      2\u001b[0m \u001b[38;5;28mprint\u001b[39m(A)\n",
      "\u001b[1;31mNameError\u001b[0m: name 'A' is not defined"
     ]
    }
   ],
   "source": [
    "A.append(50)\n",
    "print(A)"
   ]
  },
  {
   "cell_type": "code",
   "execution_count": 4,
   "id": "1c976cd7",
   "metadata": {},
   "outputs": [
    {
     "name": "stdout",
     "output_type": "stream",
     "text": [
      "[True, ['a', 'b'], [1, 2, 3]]\n",
      "3\n"
     ]
    }
   ],
   "source": [
    "A = [\"a\",\"b\"]\n",
    "B = [1,2,3]\n",
    "C = [True, A, B]\n",
    "print(C)\n",
    "print(len(C))"
   ]
  },
  {
   "cell_type": "code",
   "execution_count": 5,
   "id": "bac4c2a6",
   "metadata": {},
   "outputs": [
    {
     "name": "stdout",
     "output_type": "stream",
     "text": [
      "[True, ['a', 'b'], [1, 2, 3], []]\n"
     ]
    }
   ],
   "source": [
    "C.append([])\n",
    "print(C)"
   ]
  },
  {
   "cell_type": "code",
   "execution_count": 6,
   "id": "21201a7a",
   "metadata": {},
   "outputs": [
    {
     "name": "stdout",
     "output_type": "stream",
     "text": [
      "4\n"
     ]
    }
   ],
   "source": [
    "print(len(C))"
   ]
  },
  {
   "cell_type": "code",
   "execution_count": 7,
   "id": "cf1a8000",
   "metadata": {},
   "outputs": [
    {
     "data": {
      "text/plain": [
       "['__add__',\n",
       " '__class__',\n",
       " '__class_getitem__',\n",
       " '__contains__',\n",
       " '__delattr__',\n",
       " '__delitem__',\n",
       " '__dir__',\n",
       " '__doc__',\n",
       " '__eq__',\n",
       " '__format__',\n",
       " '__ge__',\n",
       " '__getattribute__',\n",
       " '__getitem__',\n",
       " '__gt__',\n",
       " '__hash__',\n",
       " '__iadd__',\n",
       " '__imul__',\n",
       " '__init__',\n",
       " '__init_subclass__',\n",
       " '__iter__',\n",
       " '__le__',\n",
       " '__len__',\n",
       " '__lt__',\n",
       " '__mul__',\n",
       " '__ne__',\n",
       " '__new__',\n",
       " '__reduce__',\n",
       " '__reduce_ex__',\n",
       " '__repr__',\n",
       " '__reversed__',\n",
       " '__rmul__',\n",
       " '__setattr__',\n",
       " '__setitem__',\n",
       " '__sizeof__',\n",
       " '__str__',\n",
       " '__subclasshook__',\n",
       " 'append',\n",
       " 'clear',\n",
       " 'copy',\n",
       " 'count',\n",
       " 'extend',\n",
       " 'index',\n",
       " 'insert',\n",
       " 'pop',\n",
       " 'remove',\n",
       " 'reverse',\n",
       " 'sort']"
      ]
     },
     "execution_count": 7,
     "metadata": {},
     "output_type": "execute_result"
    }
   ],
   "source": [
    "dir(C)"
   ]
  },
  {
   "cell_type": "code",
   "execution_count": 8,
   "id": "ee1caa90",
   "metadata": {},
   "outputs": [
    {
     "name": "stdout",
     "output_type": "stream",
     "text": [
      "[]\n"
     ]
    }
   ],
   "source": [
    "C.clear()\n",
    "print(C)"
   ]
  },
  {
   "cell_type": "code",
   "execution_count": 9,
   "id": "8c0d281a",
   "metadata": {},
   "outputs": [
    {
     "name": "stdout",
     "output_type": "stream",
     "text": [
      "[2, 3]\n"
     ]
    }
   ],
   "source": [
    "C.append(2)\n",
    "C.append(3)\n",
    "print(C)"
   ]
  },
  {
   "cell_type": "code",
   "execution_count": 11,
   "id": "a979d623",
   "metadata": {},
   "outputs": [
    {
     "ename": "IndexError",
     "evalue": "pop from empty list",
     "output_type": "error",
     "traceback": [
      "\u001b[1;31m---------------------------------------------------------------------------\u001b[0m",
      "\u001b[1;31mIndexError\u001b[0m                                Traceback (most recent call last)",
      "Cell \u001b[1;32mIn[11], line 2\u001b[0m\n\u001b[0;32m      1\u001b[0m C\u001b[38;5;241m.\u001b[39mpop()\n\u001b[1;32m----> 2\u001b[0m \u001b[38;5;28mprint\u001b[39m(\u001b[43mC\u001b[49m\u001b[38;5;241;43m.\u001b[39;49m\u001b[43mpop\u001b[49m\u001b[43m(\u001b[49m\u001b[43m)\u001b[49m)\n",
      "\u001b[1;31mIndexError\u001b[0m: pop from empty list"
     ]
    }
   ],
   "source": [
    "C.pop() #restituisce l'ultimo elemento della lista\n",
    "print(C.pop())"
   ]
  },
  {
   "cell_type": "code",
   "execution_count": 13,
   "id": "96003370",
   "metadata": {},
   "outputs": [
    {
     "name": "stdout",
     "output_type": "stream",
     "text": [
      "['a', 2, 3]\n"
     ]
    }
   ],
   "source": [
    "C=[2,3]\n",
    "C.insert(0,\"a\")\n",
    "print(C)"
   ]
  },
  {
   "cell_type": "code",
   "execution_count": 17,
   "id": "252f8581",
   "metadata": {},
   "outputs": [
    {
     "name": "stdout",
     "output_type": "stream",
     "text": [
      "a\n"
     ]
    }
   ],
   "source": [
    "#la slicing di list è identico a quello delle stringhe\n",
    "print (C[0])\n",
    "#print(C[25]) #indice fuori range"
   ]
  },
  {
   "cell_type": "code",
   "execution_count": 18,
   "id": "b6da5546",
   "metadata": {},
   "outputs": [
    {
     "name": "stdout",
     "output_type": "stream",
     "text": [
      "['a', 2]\n"
     ]
    }
   ],
   "source": [
    "print(C[:2])"
   ]
  },
  {
   "cell_type": "code",
   "execution_count": 19,
   "id": "5ec67b76",
   "metadata": {},
   "outputs": [
    {
     "name": "stdout",
     "output_type": "stream",
     "text": [
      "a\n",
      "2\n",
      "3\n"
     ]
    }
   ],
   "source": [
    "#le liste sono iterable\n",
    "for element in C:\n",
    "    print(element)"
   ]
  },
  {
   "cell_type": "code",
   "execution_count": 24,
   "id": "f9a1f70b",
   "metadata": {},
   "outputs": [
    {
     "name": "stdout",
     "output_type": "stream",
     "text": [
      "['A', 'B', 'C', 'D', 'E']\n",
      "None\n",
      "['E', 'D', 'C', 'B', 'A']\n"
     ]
    }
   ],
   "source": [
    "nomi=[\"Alice\",\"Beatrice\",\"Carla\",\"Dina\",\"Erica\"]\n",
    "iniziali=[]\n",
    "for bimba in nomi:\n",
    "    iniziali.append(bimba[0])\n",
    "print(iniziali)\n",
    "print(iniziali.reverse()) #reverse non restituisce niente di per se ma loperazione l'ha fatta!\n",
    "print(iniziali)"
   ]
  },
  {
   "cell_type": "code",
   "execution_count": 25,
   "id": "f1ffaea6",
   "metadata": {},
   "outputs": [
    {
     "name": "stdout",
     "output_type": "stream",
     "text": [
      "Help on built-in function remove:\n",
      "\n",
      "remove(value, /) method of builtins.list instance\n",
      "    Remove first occurrence of value.\n",
      "    \n",
      "    Raises ValueError if the value is not present.\n",
      "\n"
     ]
    }
   ],
   "source": [
    "help(nomi.remove)"
   ]
  },
  {
   "cell_type": "code",
   "execution_count": 28,
   "id": "fee3dd7b",
   "metadata": {},
   "outputs": [
    {
     "name": "stdout",
     "output_type": "stream",
     "text": [
      "['Beatrice', 'Carla', 'Dina', 'Erica']\n",
      "['Beatrice', 'Carla', 'Dina', 'Erica', 'Alice']\n"
     ]
    }
   ],
   "source": [
    "#nomi.remove(\"Alice\")\n",
    "print(nomi)\n",
    "nomi.append(\"Alice\")\n",
    "print(nomi)"
   ]
  },
  {
   "cell_type": "code",
   "execution_count": 30,
   "id": "82f1fa10",
   "metadata": {},
   "outputs": [
    {
     "name": "stdout",
     "output_type": "stream",
     "text": [
      "[23, 11, 7, 18]\n",
      "[7, 11, 18, 23]\n"
     ]
    }
   ],
   "source": [
    "L=[23,11,7,18]\n",
    "print(L)\n",
    "L.sort()\n",
    "print(L)"
   ]
  },
  {
   "cell_type": "code",
   "execution_count": 32,
   "id": "46873dac",
   "metadata": {},
   "outputs": [
    {
     "name": "stdout",
     "output_type": "stream",
     "text": [
      "['Alice', 'Beatrice', 'Carla', 'Dina', 'Erica']\n"
     ]
    }
   ],
   "source": [
    "nomi.sort()\n",
    "print(nomi)"
   ]
  },
  {
   "cell_type": "code",
   "execution_count": 34,
   "id": "cd564230",
   "metadata": {},
   "outputs": [
    {
     "name": "stdout",
     "output_type": "stream",
     "text": [
      "[1, 0.4, True, 0, False]\n",
      "[0, False, 0.4, 1, True]\n"
     ]
    }
   ],
   "source": [
    "L=[1,0.4,True,0,False]\n",
    "print(L)\n",
    "L.sort()\n",
    "print(L)"
   ]
  },
  {
   "cell_type": "code",
   "execution_count": 35,
   "id": "96d099da",
   "metadata": {},
   "outputs": [
    {
     "data": {
      "text/plain": [
       "2"
      ]
     },
     "execution_count": 35,
     "metadata": {},
     "output_type": "execute_result"
    }
   ],
   "source": [
    "nomi=[\"Alice\",\"Beatrice\",\"Carla\",\"Dina\",\"Erica\"]\n",
    "nomi.index(\"Carla\")"
   ]
  },
  {
   "cell_type": "code",
   "execution_count": 40,
   "id": "b81c5da4",
   "metadata": {},
   "outputs": [
    {
     "name": "stdout",
     "output_type": "stream",
     "text": [
      "[1, 2, 3, [4, 5, 6]]\n",
      "4\n"
     ]
    }
   ],
   "source": [
    "L1=[1,2,3]\n",
    "L2=[4,5,6]\n",
    "L1.append(L2)\n",
    "print(L1)\n",
    "print(len(L1))"
   ]
  },
  {
   "cell_type": "code",
   "execution_count": 41,
   "id": "d7c7a37b",
   "metadata": {},
   "outputs": [
    {
     "name": "stdout",
     "output_type": "stream",
     "text": [
      "[1, 2, 3, 4, 5, 6]\n",
      "6\n"
     ]
    }
   ],
   "source": [
    "L1=[1,2,3]\n",
    "L2=[4,5,6]\n",
    "L1.extend(L2)\n",
    "print(L1)\n",
    "print(len(L1))"
   ]
  },
  {
   "cell_type": "code",
   "execution_count": 42,
   "id": "d115826d",
   "metadata": {},
   "outputs": [
    {
     "name": "stdout",
     "output_type": "stream",
     "text": [
      "[1, 2, 3]\n",
      "3\n",
      "[1, 2, 3, 4, 5, 6]\n",
      "6\n"
     ]
    }
   ],
   "source": [
    "L1=[1,2,3]\n",
    "L2=[4,5,6]\n",
    "L3=L1+L2\n",
    "print(L1)\n",
    "print(len(L1))\n",
    "print(L3)\n",
    "print(len(L3))"
   ]
  },
  {
   "cell_type": "code",
   "execution_count": 43,
   "id": "fc025434",
   "metadata": {},
   "outputs": [
    {
     "name": "stdout",
     "output_type": "stream",
     "text": [
      "['giovanni', 'gallo', 'giovanni', 'gallo', 'giovanni', 'gallo', 'giovanni', 'gallo', 'giovanni', 'gallo']\n"
     ]
    }
   ],
   "source": [
    "L=[\"giovanni\",\"gallo\"]\n",
    "L2=L*5\n",
    "print(L2)"
   ]
  },
  {
   "cell_type": "code",
   "execution_count": 45,
   "id": "8972927e",
   "metadata": {},
   "outputs": [
    {
     "data": {
      "text/plain": [
       "0"
      ]
     },
     "execution_count": 45,
     "metadata": {},
     "output_type": "execute_result"
    }
   ],
   "source": [
    "nomi=[\"Alice\",\"Beatrice\",\"Carla\",\"Dina\",\"Erica\"]\n",
    "nomi.count(\"Beatrice\")\n",
    "nomi.count(\"Filippo\")"
   ]
  },
  {
   "cell_type": "code",
   "execution_count": 46,
   "id": "2d22096c",
   "metadata": {},
   "outputs": [
    {
     "name": "stdout",
     "output_type": "stream",
     "text": [
      "[]\n"
     ]
    }
   ],
   "source": [
    "A=[1,2,3]\n",
    "B=A  #passaggio per riferimento (indirizzo di memoria)\n",
    "B.clear()\n",
    "print(A)"
   ]
  },
  {
   "cell_type": "code",
   "execution_count": 48,
   "id": "def0be58",
   "metadata": {},
   "outputs": [
    {
     "name": "stdout",
     "output_type": "stream",
     "text": [
      "[1, 2, 3]\n",
      "[]\n"
     ]
    }
   ],
   "source": [
    "A=[1,2,3]\n",
    "B=A.copy()  #copia di sicurezza di una lista con il comando copia\n",
    "B.clear()\n",
    "print(A)\n",
    "print(B)"
   ]
  },
  {
   "cell_type": "code",
   "execution_count": 49,
   "id": "3b5646bd",
   "metadata": {},
   "outputs": [
    {
     "name": "stdout",
     "output_type": "stream",
     "text": [
      "2329588085248 2329588085248\n"
     ]
    }
   ],
   "source": [
    "id(A) #id ci restituisce l'indirizzo di memoria(2329588085248)\n",
    "C=(A)\n",
    "print(id(A),id(C))"
   ]
  },
  {
   "cell_type": "code",
   "execution_count": 50,
   "id": "bca0d4a8",
   "metadata": {},
   "outputs": [
    {
     "name": "stdout",
     "output_type": "stream",
     "text": [
      "2329588085248 2329588085248 2329588085696\n"
     ]
    }
   ],
   "source": [
    "id(A)\n",
    "C=(A)\n",
    "D=A.copy()\n",
    "print(id(A),id(C),id(D))"
   ]
  },
  {
   "cell_type": "code",
   "execution_count": 51,
   "id": "c53343de",
   "metadata": {},
   "outputs": [
    {
     "data": {
      "text/plain": [
       "'C:\\\\Users\\\\franc\\\\Desktop\\\\python'"
      ]
     },
     "execution_count": 51,
     "metadata": {},
     "output_type": "execute_result"
    }
   ],
   "source": [
    "pwd #directory locale"
   ]
  },
  {
   "cell_type": "code",
   "execution_count": 55,
   "id": "9b719731",
   "metadata": {},
   "outputs": [
    {
     "ename": "SyntaxError",
     "evalue": "invalid syntax (3847638366.py, line 1)",
     "output_type": "error",
     "traceback": [
      "\u001b[1;36m  Cell \u001b[1;32mIn[55], line 1\u001b[1;36m\u001b[0m\n\u001b[1;33m    cd pyhon\u001b[0m\n\u001b[1;37m       ^\u001b[0m\n\u001b[1;31mSyntaxError\u001b[0m\u001b[1;31m:\u001b[0m invalid syntax\n"
     ]
    }
   ],
   "source": [
    "cd \"pyhon\"\n",
    "ls #lista della directory"
   ]
  },
  {
   "cell_type": "code",
   "execution_count": 74,
   "id": "ce6613bc",
   "metadata": {},
   "outputs": [],
   "source": [
    "\"\"\"\n",
    "Esercizio\n",
    "data una lista restituire una nuova lista eliminando i duplicati\n",
    "ESEMPIO\n",
    "L=[1,2,3,1,2] -> [1,2,3]\n",
    "\"\"\"\n",
    "\n",
    "def purgeDuplicates(L):\n",
    "    purgedList=[]\n",
    "    for element in L:\n",
    "        if element not in purgedList:\n",
    "            purgeList.append(element)\n",
    "    return purgeList\n",
    "\n",
    "\n",
    "def cleanList(L):\n",
    "    for i in range(len(L)):\n",
    "        for j in range(i+1,len(L)):\n",
    "            if L[i]==L[j]:\n",
    "                L.remove(L[j])\n",
    "                \n"
   ]
  },
  {
   "cell_type": "code",
   "execution_count": 78,
   "id": "bbc16cb1",
   "metadata": {},
   "outputs": [
    {
     "name": "stdout",
     "output_type": "stream",
     "text": [
      "[1, 2, 3, 1, 2, 3]\n"
     ]
    },
    {
     "ename": "NameError",
     "evalue": "name 'purgeList' is not defined",
     "output_type": "error",
     "traceback": [
      "\u001b[1;31m---------------------------------------------------------------------------\u001b[0m",
      "\u001b[1;31mNameError\u001b[0m                                 Traceback (most recent call last)",
      "Cell \u001b[1;32mIn[78], line 3\u001b[0m\n\u001b[0;32m      1\u001b[0m L \u001b[38;5;241m=\u001b[39m [\u001b[38;5;241m1\u001b[39m,\u001b[38;5;241m2\u001b[39m,\u001b[38;5;241m3\u001b[39m,\u001b[38;5;241m1\u001b[39m,\u001b[38;5;241m2\u001b[39m,\u001b[38;5;241m3\u001b[39m]\n\u001b[0;32m      2\u001b[0m \u001b[38;5;28mprint\u001b[39m(L)\n\u001b[1;32m----> 3\u001b[0m M \u001b[38;5;241m=\u001b[39m \u001b[43mpurgeDuplicates\u001b[49m\u001b[43m(\u001b[49m\u001b[43mS\u001b[49m\u001b[43m)\u001b[49m\n\u001b[0;32m      4\u001b[0m \u001b[38;5;28mprint\u001b[39m(M)\n\u001b[0;32m      5\u001b[0m cleanList(L)\n",
      "Cell \u001b[1;32mIn[74], line 12\u001b[0m, in \u001b[0;36mpurgeDuplicates\u001b[1;34m(L)\u001b[0m\n\u001b[0;32m     10\u001b[0m \u001b[38;5;28;01mfor\u001b[39;00m element \u001b[38;5;129;01min\u001b[39;00m L:\n\u001b[0;32m     11\u001b[0m     \u001b[38;5;28;01mif\u001b[39;00m element \u001b[38;5;129;01mnot\u001b[39;00m \u001b[38;5;129;01min\u001b[39;00m purgedList:\n\u001b[1;32m---> 12\u001b[0m         \u001b[43mpurgeList\u001b[49m\u001b[38;5;241m.\u001b[39mappend(element)\n\u001b[0;32m     13\u001b[0m \u001b[38;5;28;01mreturn\u001b[39;00m purgeList\n",
      "\u001b[1;31mNameError\u001b[0m: name 'purgeList' is not defined"
     ]
    }
   ],
   "source": [
    "L = [1,2,3,1,2,3]\n",
    "print(L)\n",
    "M = purgeDuplicates(S)\n",
    "print(M)\n",
    "cleanList(L)"
   ]
  },
  {
   "cell_type": "code",
   "execution_count": 79,
   "id": "688c1185",
   "metadata": {},
   "outputs": [
    {
     "ename": "SyntaxError",
     "evalue": "invalid syntax (3215691484.py, line 11)",
     "output_type": "error",
     "traceback": [
      "\u001b[1;36m  Cell \u001b[1;32mIn[79], line 11\u001b[1;36m\u001b[0m\n\u001b[1;33m    for in range(K**2):\u001b[0m\n\u001b[1;37m        ^\u001b[0m\n\u001b[1;31mSyntaxError\u001b[0m\u001b[1;31m:\u001b[0m invalid syntax\n"
     ]
    }
   ],
   "source": [
    "#battaglia navale\n",
    "#riempire il tabellone inziale a caso\n",
    "#crea il tabellone K * K\n",
    "\n",
    "def tabelloneIngenuo(K):\n",
    "    \"\"\"\n",
    "    restituisce la lista delle caselle\n",
    "    vuote\n",
    "    \"\"\"\n",
    "    #T=[[][][]]\n",
    "    for in range(K**2):\n",
    "        T.append(False\n",
    "    return T"
   ]
  },
  {
   "cell_type": "code",
   "execution_count": 83,
   "id": "af671bcb",
   "metadata": {},
   "outputs": [
    {
     "ename": "IndentationError",
     "evalue": "unexpected indent (1354681242.py, line 13)",
     "output_type": "error",
     "traceback": [
      "\u001b[1;36m  Cell \u001b[1;32mIn[83], line 13\u001b[1;36m\u001b[0m\n\u001b[1;33m    if T[(i-1)*k+(j-1)]:\u001b[0m\n\u001b[1;37m    ^\u001b[0m\n\u001b[1;31mIndentationError\u001b[0m\u001b[1;31m:\u001b[0m unexpected indent\n"
     ]
    }
   ],
   "source": [
    "#list comprehension\n",
    "K=3\n",
    "T=[False for i in range(K*K)]\n",
    "print(T)\n",
    "\n",
    "def smartBoard(K):\n",
    "    return [False for i in range(K*K)]\n",
    "\n",
    "#funzione che scopre se nel Board ho \"acqua\"\n",
    "#oppure colpito\n",
    "def sparo(i,j,T):\n",
    "    k=int(len(T)**(1/2))\n",
    "        if T[(i-1)*k+(j-1)]:\n",
    "            return \"colpito\"\n",
    "        else:\n",
    "            return \"acqua\"\n",
    "        \n",
    "        \n",
    "        from random import randint\n",
    "        \n",
    "        def fillBoard(T,N):\n",
    "            \"\"\"\n",
    "            Provo a posizionare N sommergibili in T\n",
    "            (può capitare che due sormegibili si sovrappongono e me ne infischio)\n",
    "            \"\"\"\n",
    "            for i in range(N):\n",
    "                T[randint(len(T))]=True\n",
    "                \n",
    "                \n",
    "            #stampare il board\n",
    "            def printBoard(T):\n",
    "                k=int(len(T)**(1/2)) #ricavo la dimensione del quadrato\n",
    "                riga=\"\" #scorro le k caselle\n",
    "                for i in range(k): #creo le caselle delle righe\n",
    "                    for j in range(k):\n",
    "                        if T[i*k+j]\n",
    "                            riga=riga+\"X\"\n",
    "                        else:\n",
    "                            riga=riga+\"0\"\n",
    "                print(riga)"
   ]
  },
  {
   "cell_type": "code",
   "execution_count": 84,
   "id": "2896b49d",
   "metadata": {},
   "outputs": [
    {
     "ename": "NameError",
     "evalue": "name 'fillBoard' is not defined",
     "output_type": "error",
     "traceback": [
      "\u001b[1;31m---------------------------------------------------------------------------\u001b[0m",
      "\u001b[1;31mNameError\u001b[0m                                 Traceback (most recent call last)",
      "Cell \u001b[1;32mIn[84], line 2\u001b[0m\n\u001b[0;32m      1\u001b[0m T\u001b[38;5;241m=\u001b[39msmartBoard(\u001b[38;5;241m5\u001b[39m)\n\u001b[1;32m----> 2\u001b[0m \u001b[43mfillBoard\u001b[49m(T,\u001b[38;5;241m7\u001b[39m)\n\u001b[0;32m      3\u001b[0m printBoard(T)\n",
      "\u001b[1;31mNameError\u001b[0m: name 'fillBoard' is not defined"
     ]
    }
   ],
   "source": [
    "T=smartBoard(5)\n",
    "fillBoard(T,7)\n",
    "printBoard(T)"
   ]
  },
  {
   "cell_type": "code",
   "execution_count": 85,
   "id": "5cc25d70",
   "metadata": {},
   "outputs": [
    {
     "ename": "NameError",
     "evalue": "name 'sparo' is not defined",
     "output_type": "error",
     "traceback": [
      "\u001b[1;31m---------------------------------------------------------------------------\u001b[0m",
      "\u001b[1;31mNameError\u001b[0m                                 Traceback (most recent call last)",
      "Cell \u001b[1;32mIn[85], line 1\u001b[0m\n\u001b[1;32m----> 1\u001b[0m \u001b[43msparo\u001b[49m(\u001b[38;5;241m1\u001b[39m,\u001b[38;5;241m1\u001b[39m,T)\n",
      "\u001b[1;31mNameError\u001b[0m: name 'sparo' is not defined"
     ]
    }
   ],
   "source": [
    "sparo(1,1,T)"
   ]
  }
 ],
 "metadata": {
  "kernelspec": {
   "display_name": "Python 3 (ipykernel)",
   "language": "python",
   "name": "python3"
  },
  "language_info": {
   "codemirror_mode": {
    "name": "ipython",
    "version": 3
   },
   "file_extension": ".py",
   "mimetype": "text/x-python",
   "name": "python",
   "nbconvert_exporter": "python",
   "pygments_lexer": "ipython3",
   "version": "3.10.9"
  }
 },
 "nbformat": 4,
 "nbformat_minor": 5
}
